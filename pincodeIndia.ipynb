{
 "cells": [
  {
   "cell_type": "code",
   "execution_count": 2171,
   "id": "e85f2ae3-b1cd-45c7-82c1-7e83c070a53e",
   "metadata": {},
   "outputs": [],
   "source": [
    "# https://www.kaggle.com/datasets/mascarenhasneil/all-india-pincode-directory-aug21/code?datasetId=1529367&sortBy=dateRun&tab=profile\n",
    "\n",
    "# Lycan Analytics\n",
    "import pandas as pd\n",
    "import numpy as np\n",
    "import matplotlib.pyplot as plt\n",
    "import seaborn as sns\n",
    "import folium\n",
    "import pgeocode\n",
    "import webbrowser\n",
    "\n",
    "\n",
    "%matplotlib inline\n"
   ]
  },
  {
   "cell_type": "code",
   "execution_count": 2172,
   "id": "c23a7f84-89d2-4f9e-a59d-9a39497d916e",
   "metadata": {},
   "outputs": [
    {
     "name": "stderr",
     "output_type": "stream",
     "text": [
      "/var/folders/7l/xnly7sjn0x3cmznv41sljv940000gn/T/ipykernel_9035/3965640415.py:1: DtypeWarning: Columns (9) have mixed types. Specify dtype option on import or set low_memory=False.\n",
      "  df = pd.read_csv('Pincode/pincode.csv', usecols=['StateName','District','Pincode','Latitude','Longitude'])\n"
     ]
    },
    {
     "data": {
      "text/html": [
       "<div>\n",
       "<style scoped>\n",
       "    .dataframe tbody tr th:only-of-type {\n",
       "        vertical-align: middle;\n",
       "    }\n",
       "\n",
       "    .dataframe tbody tr th {\n",
       "        vertical-align: top;\n",
       "    }\n",
       "\n",
       "    .dataframe thead th {\n",
       "        text-align: right;\n",
       "    }\n",
       "</style>\n",
       "<table border=\"1\" class=\"dataframe\">\n",
       "  <thead>\n",
       "    <tr style=\"text-align: right;\">\n",
       "      <th></th>\n",
       "      <th>Pincode</th>\n",
       "      <th>District</th>\n",
       "      <th>StateName</th>\n",
       "      <th>Latitude</th>\n",
       "      <th>Longitude</th>\n",
       "    </tr>\n",
       "  </thead>\n",
       "  <tbody>\n",
       "    <tr>\n",
       "      <th>0</th>\n",
       "      <td>515631</td>\n",
       "      <td>ANANTAPUR</td>\n",
       "      <td>ANDHRA PRADESH</td>\n",
       "      <td>14.5689</td>\n",
       "      <td>77.85624</td>\n",
       "    </tr>\n",
       "    <tr>\n",
       "      <th>1</th>\n",
       "      <td>515631</td>\n",
       "      <td>ANANTAPUR</td>\n",
       "      <td>ANDHRA PRADESH</td>\n",
       "      <td>14.5281</td>\n",
       "      <td>77.857014</td>\n",
       "    </tr>\n",
       "    <tr>\n",
       "      <th>2</th>\n",
       "      <td>515631</td>\n",
       "      <td>ANANTAPUR</td>\n",
       "      <td>ANDHRA PRADESH</td>\n",
       "      <td>14.561111</td>\n",
       "      <td>77.85715</td>\n",
       "    </tr>\n",
       "    <tr>\n",
       "      <th>3</th>\n",
       "      <td>515581</td>\n",
       "      <td>ANANTAPUR</td>\n",
       "      <td>ANDHRA PRADESH</td>\n",
       "      <td>14.2488</td>\n",
       "      <td>78.2588</td>\n",
       "    </tr>\n",
       "    <tr>\n",
       "      <th>4</th>\n",
       "      <td>515581</td>\n",
       "      <td>ANANTAPUR</td>\n",
       "      <td>ANDHRA PRADESH</td>\n",
       "      <td>14.24555</td>\n",
       "      <td>78.2477</td>\n",
       "    </tr>\n",
       "  </tbody>\n",
       "</table>\n",
       "</div>"
      ],
      "text/plain": [
       "   Pincode   District       StateName   Latitude  Longitude\n",
       "0   515631  ANANTAPUR  ANDHRA PRADESH    14.5689   77.85624\n",
       "1   515631  ANANTAPUR  ANDHRA PRADESH    14.5281  77.857014\n",
       "2   515631  ANANTAPUR  ANDHRA PRADESH  14.561111   77.85715\n",
       "3   515581  ANANTAPUR  ANDHRA PRADESH    14.2488    78.2588\n",
       "4   515581  ANANTAPUR  ANDHRA PRADESH   14.24555    78.2477"
      ]
     },
     "execution_count": 2172,
     "metadata": {},
     "output_type": "execute_result"
    }
   ],
   "source": [
    "df = pd.read_csv('Pincode/pincode.csv', usecols=['StateName','District','Pincode','Latitude','Longitude'])\n",
    "df.head()"
   ]
  },
  {
   "cell_type": "code",
   "execution_count": 2173,
   "id": "2d907b65-a3f4-474e-9366-0e0997684e6b",
   "metadata": {},
   "outputs": [
    {
     "data": {
      "text/plain": [
       "(157126, 5)"
      ]
     },
     "execution_count": 2173,
     "metadata": {},
     "output_type": "execute_result"
    }
   ],
   "source": [
    "df.shape"
   ]
  },
  {
   "cell_type": "code",
   "execution_count": 2174,
   "id": "523a03d2-fd54-42ce-9b80-f9f433b62053",
   "metadata": {},
   "outputs": [
    {
     "name": "stdout",
     "output_type": "stream",
     "text": [
      "<class 'pandas.core.frame.DataFrame'>\n",
      "RangeIndex: 157126 entries, 0 to 157125\n",
      "Data columns (total 5 columns):\n",
      " #   Column     Non-Null Count   Dtype \n",
      "---  ------     --------------   ----- \n",
      " 0   Pincode    157126 non-null  int64 \n",
      " 1   District   157126 non-null  object\n",
      " 2   StateName  157126 non-null  object\n",
      " 3   Latitude   148288 non-null  object\n",
      " 4   Longitude  148283 non-null  object\n",
      "dtypes: int64(1), object(4)\n",
      "memory usage: 6.0+ MB\n",
      "Pincode       int64\n",
      "District     object\n",
      "StateName    object\n",
      "Latitude     object\n",
      "Longitude    object\n",
      "dtype: object\n"
     ]
    }
   ],
   "source": [
    "df.info()\n",
    "print(df.dtypes)"
   ]
  },
  {
   "cell_type": "markdown",
   "id": "1fa98112-f21e-411e-be73-6f3a3179d9cd",
   "metadata": {},
   "source": [
    "longitude ,Latitude = blanks, 0 , NA\n",
    "feature engineering -  replacing all unwanted values with 0"
   ]
  },
  {
   "cell_type": "code",
   "execution_count": 2175,
   "id": "209c423e-c7e5-4f75-aef9-7ff3571f9a82",
   "metadata": {},
   "outputs": [],
   "source": [
    "df['Latitude'] = df['Latitude'].astype('str')\n",
    "df['Longitude'] = df['Longitude'].astype('str')"
   ]
  },
  {
   "cell_type": "code",
   "execution_count": 2176,
   "id": "9fd2a7ae-82cf-484f-90ad-2a8bf46223cd",
   "metadata": {},
   "outputs": [
    {
     "name": "stdout",
     "output_type": "stream",
     "text": [
      "<class 'pandas.core.frame.DataFrame'>\n",
      "RangeIndex: 157126 entries, 0 to 157125\n",
      "Data columns (total 2 columns):\n",
      " #   Column     Non-Null Count   Dtype \n",
      "---  ------     --------------   ----- \n",
      " 0   Latitude   157126 non-null  object\n",
      " 1   Longitude  157126 non-null  object\n",
      "dtypes: object(2)\n",
      "memory usage: 2.4+ MB\n"
     ]
    }
   ],
   "source": [
    "df2 = df[['Latitude','Longitude']].apply(lambda x: x.str.strip()).replace('', np.nan)\n",
    "df3 = df2[['Latitude','Longitude']].apply(lambda x: x.str.strip()).replace('NA', np.nan)\n",
    "\n",
    "# We can then use the to_numeric approach in order to convert the values under the ‘'Latitude','Longitude' column into floats\n",
    "# By setting errors=’coerce’, we’ll transform the non-numeric values into NaN.\n",
    "df3['Latitude'] = pd.to_numeric(df3['Latitude'], errors='coerce')\n",
    "df3['Longitude'] = pd.to_numeric(df3['Longitude'], errors='coerce')\n",
    "# https://datatofish.com/convert-string-to-float-dataframe/\n",
    "\n",
    "df3 = df3[['Latitude','Longitude']].replace(np.nan,0,regex=True) # https://sparkbyexamples.com/pandas/pandas-replace-blank-values-with-nan/\n",
    "df3['Latitude'] = df3['Latitude'].astype(str)\n",
    "df3['Longitude'] = df3['Longitude'].astype(str)\n",
    "df3.info()"
   ]
  },
  {
   "cell_type": "code",
   "execution_count": 2177,
   "id": "43e4d1cb",
   "metadata": {},
   "outputs": [
    {
     "data": {
      "text/plain": [
       "False"
      ]
     },
     "execution_count": 2177,
     "metadata": {},
     "output_type": "execute_result"
    }
   ],
   "source": [
    "df3.Latitude.isnull().values.any()"
   ]
  },
  {
   "cell_type": "code",
   "execution_count": 2178,
   "id": "6b6fd581-a67c-42ae-99c6-67506d360321",
   "metadata": {},
   "outputs": [
    {
     "data": {
      "text/html": [
       "<div>\n",
       "<style scoped>\n",
       "    .dataframe tbody tr th:only-of-type {\n",
       "        vertical-align: middle;\n",
       "    }\n",
       "\n",
       "    .dataframe tbody tr th {\n",
       "        vertical-align: top;\n",
       "    }\n",
       "\n",
       "    .dataframe thead th {\n",
       "        text-align: right;\n",
       "    }\n",
       "</style>\n",
       "<table border=\"1\" class=\"dataframe\">\n",
       "  <thead>\n",
       "    <tr style=\"text-align: right;\">\n",
       "      <th></th>\n",
       "      <th>Latitude</th>\n",
       "      <th>Longitude</th>\n",
       "    </tr>\n",
       "  </thead>\n",
       "  <tbody>\n",
       "    <tr>\n",
       "      <th>0</th>\n",
       "      <td>14.5689</td>\n",
       "      <td>77.85624</td>\n",
       "    </tr>\n",
       "    <tr>\n",
       "      <th>1</th>\n",
       "      <td>14.5281</td>\n",
       "      <td>77.857014</td>\n",
       "    </tr>\n",
       "    <tr>\n",
       "      <th>2</th>\n",
       "      <td>14.561111</td>\n",
       "      <td>77.85715</td>\n",
       "    </tr>\n",
       "    <tr>\n",
       "      <th>3</th>\n",
       "      <td>14.2488</td>\n",
       "      <td>78.2588</td>\n",
       "    </tr>\n",
       "    <tr>\n",
       "      <th>4</th>\n",
       "      <td>14.24555</td>\n",
       "      <td>78.2477</td>\n",
       "    </tr>\n",
       "    <tr>\n",
       "      <th>...</th>\n",
       "      <td>...</td>\n",
       "      <td>...</td>\n",
       "    </tr>\n",
       "    <tr>\n",
       "      <th>157121</th>\n",
       "      <td>28.98</td>\n",
       "      <td>77.68</td>\n",
       "    </tr>\n",
       "    <tr>\n",
       "      <th>157122</th>\n",
       "      <td>28.9724</td>\n",
       "      <td>77.67536</td>\n",
       "    </tr>\n",
       "    <tr>\n",
       "      <th>157123</th>\n",
       "      <td>28.99</td>\n",
       "      <td>77.71</td>\n",
       "    </tr>\n",
       "    <tr>\n",
       "      <th>157124</th>\n",
       "      <td>11.24529</td>\n",
       "      <td>75.778455</td>\n",
       "    </tr>\n",
       "    <tr>\n",
       "      <th>157125</th>\n",
       "      <td>11.35</td>\n",
       "      <td>75.91</td>\n",
       "    </tr>\n",
       "  </tbody>\n",
       "</table>\n",
       "<p>157126 rows × 2 columns</p>\n",
       "</div>"
      ],
      "text/plain": [
       "         Latitude  Longitude\n",
       "0         14.5689   77.85624\n",
       "1         14.5281  77.857014\n",
       "2       14.561111   77.85715\n",
       "3         14.2488    78.2588\n",
       "4        14.24555    78.2477\n",
       "...           ...        ...\n",
       "157121      28.98      77.68\n",
       "157122    28.9724   77.67536\n",
       "157123      28.99      77.71\n",
       "157124   11.24529  75.778455\n",
       "157125      11.35      75.91\n",
       "\n",
       "[157126 rows x 2 columns]"
      ]
     },
     "execution_count": 2178,
     "metadata": {},
     "output_type": "execute_result"
    }
   ],
   "source": [
    "df3"
   ]
  },
  {
   "cell_type": "code",
   "execution_count": 2179,
   "id": "a0cc3ab0-3951-458e-af6e-1dc241750bbb",
   "metadata": {},
   "outputs": [],
   "source": [
    "# exporting csv file for df3 to check all blanks, NA with 0\n",
    "#df3.to_csv('lat_long.csv', encoding='utf-8',index=True)"
   ]
  },
  {
   "cell_type": "code",
   "execution_count": 2180,
   "id": "d32374c1-d370-4ecd-b1b8-e84af85cb291",
   "metadata": {},
   "outputs": [
    {
     "data": {
      "text/html": [
       "<div>\n",
       "<style scoped>\n",
       "    .dataframe tbody tr th:only-of-type {\n",
       "        vertical-align: middle;\n",
       "    }\n",
       "\n",
       "    .dataframe tbody tr th {\n",
       "        vertical-align: top;\n",
       "    }\n",
       "\n",
       "    .dataframe thead th {\n",
       "        text-align: right;\n",
       "    }\n",
       "</style>\n",
       "<table border=\"1\" class=\"dataframe\">\n",
       "  <thead>\n",
       "    <tr style=\"text-align: right;\">\n",
       "      <th></th>\n",
       "      <th>Pincode</th>\n",
       "      <th>District</th>\n",
       "      <th>StateName</th>\n",
       "    </tr>\n",
       "  </thead>\n",
       "  <tbody>\n",
       "    <tr>\n",
       "      <th>0</th>\n",
       "      <td>515631</td>\n",
       "      <td>ANANTAPUR</td>\n",
       "      <td>ANDHRA PRADESH</td>\n",
       "    </tr>\n",
       "    <tr>\n",
       "      <th>1</th>\n",
       "      <td>515631</td>\n",
       "      <td>ANANTAPUR</td>\n",
       "      <td>ANDHRA PRADESH</td>\n",
       "    </tr>\n",
       "    <tr>\n",
       "      <th>2</th>\n",
       "      <td>515631</td>\n",
       "      <td>ANANTAPUR</td>\n",
       "      <td>ANDHRA PRADESH</td>\n",
       "    </tr>\n",
       "    <tr>\n",
       "      <th>3</th>\n",
       "      <td>515581</td>\n",
       "      <td>ANANTAPUR</td>\n",
       "      <td>ANDHRA PRADESH</td>\n",
       "    </tr>\n",
       "    <tr>\n",
       "      <th>4</th>\n",
       "      <td>515581</td>\n",
       "      <td>ANANTAPUR</td>\n",
       "      <td>ANDHRA PRADESH</td>\n",
       "    </tr>\n",
       "    <tr>\n",
       "      <th>...</th>\n",
       "      <td>...</td>\n",
       "      <td>...</td>\n",
       "      <td>...</td>\n",
       "    </tr>\n",
       "    <tr>\n",
       "      <th>157121</th>\n",
       "      <td>250002</td>\n",
       "      <td>MEERUT</td>\n",
       "      <td>UTTAR PRADESH</td>\n",
       "    </tr>\n",
       "    <tr>\n",
       "      <th>157122</th>\n",
       "      <td>250002</td>\n",
       "      <td>MEERUT</td>\n",
       "      <td>UTTAR PRADESH</td>\n",
       "    </tr>\n",
       "    <tr>\n",
       "      <th>157123</th>\n",
       "      <td>250001</td>\n",
       "      <td>MEERUT</td>\n",
       "      <td>UTTAR PRADESH</td>\n",
       "    </tr>\n",
       "    <tr>\n",
       "      <th>157124</th>\n",
       "      <td>673611</td>\n",
       "      <td>KOZHIKODE</td>\n",
       "      <td>KERALA</td>\n",
       "    </tr>\n",
       "    <tr>\n",
       "      <th>157125</th>\n",
       "      <td>673572</td>\n",
       "      <td>KOZHIKODE</td>\n",
       "      <td>KERALA</td>\n",
       "    </tr>\n",
       "  </tbody>\n",
       "</table>\n",
       "<p>157126 rows × 3 columns</p>\n",
       "</div>"
      ],
      "text/plain": [
       "        Pincode   District       StateName\n",
       "0        515631  ANANTAPUR  ANDHRA PRADESH\n",
       "1        515631  ANANTAPUR  ANDHRA PRADESH\n",
       "2        515631  ANANTAPUR  ANDHRA PRADESH\n",
       "3        515581  ANANTAPUR  ANDHRA PRADESH\n",
       "4        515581  ANANTAPUR  ANDHRA PRADESH\n",
       "...         ...        ...             ...\n",
       "157121   250002     MEERUT   UTTAR PRADESH\n",
       "157122   250002     MEERUT   UTTAR PRADESH\n",
       "157123   250001     MEERUT   UTTAR PRADESH\n",
       "157124   673611  KOZHIKODE          KERALA\n",
       "157125   673572  KOZHIKODE          KERALA\n",
       "\n",
       "[157126 rows x 3 columns]"
      ]
     },
     "execution_count": 2180,
     "metadata": {},
     "output_type": "execute_result"
    }
   ],
   "source": [
    "df.drop(df.iloc[:, 3:], inplace=True, axis=1)\n",
    "df"
   ]
  },
  {
   "cell_type": "code",
   "execution_count": 2181,
   "id": "d1ff90c2-7a35-4f1f-981b-433a50f973f3",
   "metadata": {},
   "outputs": [
    {
     "name": "stdout",
     "output_type": "stream",
     "text": [
      "        Pincode   District       StateName   Latitude  Longitude\n",
      "0        515631  ANANTAPUR  ANDHRA PRADESH    14.5689   77.85624\n",
      "1        515631  ANANTAPUR  ANDHRA PRADESH    14.5281  77.857014\n",
      "2        515631  ANANTAPUR  ANDHRA PRADESH  14.561111   77.85715\n",
      "3        515581  ANANTAPUR  ANDHRA PRADESH    14.2488    78.2588\n",
      "4        515581  ANANTAPUR  ANDHRA PRADESH   14.24555    78.2477\n",
      "...         ...        ...             ...        ...        ...\n",
      "157121   250002     MEERUT   UTTAR PRADESH      28.98      77.68\n",
      "157122   250002     MEERUT   UTTAR PRADESH    28.9724   77.67536\n",
      "157123   250001     MEERUT   UTTAR PRADESH      28.99      77.71\n",
      "157124   673611  KOZHIKODE          KERALA   11.24529  75.778455\n",
      "157125   673572  KOZHIKODE          KERALA      11.35      75.91\n",
      "\n",
      "[157126 rows x 5 columns]\n"
     ]
    }
   ],
   "source": [
    "# frames = [df, df3]\n",
    "# https://sparkbyexamples.com/pandas/pandas-merge-two-dataframes-by-index/ \n",
    "# join two DataFrames with concat\n",
    "df2 = pd.concat([df, df3], axis=1)\n",
    "print(df2)"
   ]
  },
  {
   "cell_type": "code",
   "execution_count": 2182,
   "id": "4e706fce-3045-4fa4-891c-abcd321f7796",
   "metadata": {},
   "outputs": [
    {
     "data": {
      "text/plain": [
       "19300"
      ]
     },
     "execution_count": 2182,
     "metadata": {},
     "output_type": "execute_result"
    }
   ],
   "source": [
    "df2['Pincode'].nunique()"
   ]
  },
  {
   "cell_type": "code",
   "execution_count": 2183,
   "id": "8e92035e-d917-4e95-a4e4-15db12f04e02",
   "metadata": {},
   "outputs": [
    {
     "data": {
      "text/plain": [
       "\"\\ndf['Pincode'].value_counts() # here we can see that in the original data there are multiple duplicate pincodes we will keep\\n# the first one and drop the remaining.\\n\""
      ]
     },
     "execution_count": 2183,
     "metadata": {},
     "output_type": "execute_result"
    }
   ],
   "source": [
    "'''\n",
    "df['Pincode'].value_counts() # here we can see that in the original data there are multiple duplicate pincodes we will keep\n",
    "# the first one and drop the remaining.\n",
    "'''"
   ]
  },
  {
   "cell_type": "code",
   "execution_count": 2184,
   "id": "802d1301-64a0-4eb9-86a0-bde498e5f087",
   "metadata": {},
   "outputs": [
    {
     "data": {
      "text/plain": [
       "494001    73\n",
       "494442    72\n",
       "494441    69\n",
       "494226    69\n",
       "491441    67\n",
       "          ..\n",
       "411031     1\n",
       "411035     1\n",
       "826010     1\n",
       "828123     1\n",
       "673006     1\n",
       "Name: Pincode, Length: 19300, dtype: int64"
      ]
     },
     "execution_count": 2184,
     "metadata": {},
     "output_type": "execute_result"
    }
   ],
   "source": [
    "df2['Pincode'].value_counts()\n",
    "# here we can see that in the original data there are multiple duplicate pincodes we will keep\n",
    "# the first one and drop the remaining."
   ]
  },
  {
   "attachments": {},
   "cell_type": "markdown",
   "id": "236d84e3",
   "metadata": {},
   "source": [
    "### Plotting the Locations of your pincode on India Map, taking user input"
   ]
  },
  {
   "cell_type": "code",
   "execution_count": 2185,
   "id": "6a016c6f",
   "metadata": {},
   "outputs": [],
   "source": [
    "# https://pgeocode.readthedocs.io/en/latest/overview.html\n",
    "# https://www.tutorialspoint.com/how-to-get-the-longitude-and-latitude-of-a-city-using-python\n",
    "def pinGeoLocator(pincode):\n",
    "    nomi = pgeocode.Nominatim('in')\n",
    "    pincodeGeolocator = nomi.query_postal_code(pincode)\n",
    "    return float(pincodeGeolocator.latitude), float(pincodeGeolocator.longitude)\n",
    "\n",
    "\n",
    "'''\n",
    "def showOnMap(df_new):\n",
    "    my_map = folium.Map(location=[df_new.Latitude.to_string(index=False),df_new.Longitude.to_string(index=False)], zoom_start = 8, min_zoom = 2)\n",
    "    print(df_new.District.to_string(index=False), df_new.StateName.to_string(index=False))\n",
    "    print(df_new.iloc[0, 3:])\n",
    "    folium.Marker(location=df_new.iloc[0, 3:],popup=f'{df_new.iloc[0, 1]},{df_new.iloc[0, 2]}',icon=folium.Icon(color=\"red\")).add_to(my_map)\n",
    "    folium.Circle(radius=100,location=df_new.iloc[0, 3:],popup=f'{df_new.iloc[0, 1]},{df_new.iloc[0, 2]}',color=\"blue\",fill=False,).add_to(my_map)\n",
    "    #Display the map\n",
    "    my_map.save(\"map.html\")\n",
    "    webbrowser.open(\"map.html\")\n",
    "'''\n",
    "\n",
    "def showOnMap(df_new):\n",
    "    my_map = folium.Map(location=[df_new.loc[0, 'Latitude'],df_new.loc[0,'Longitude']], zoom_start = 8, min_zoom = 2)\n",
    "    for i in range(len(df_new)):\n",
    "    #folium.Marker(location=df2.iloc[i, 1:3],popup=f'{df2.iloc[i, 0]}',icon=folium.Icon(color=\"green\")).add_to(my_map)\n",
    "    #folium.Circle(radius=100,location=df2.iloc[i, 1:3],popup=f'{df2.iloc[i, 0]}',color=\"yellow\",fill=False,).add_to(my_map)\n",
    "        \n",
    "        #print(df_new.District.to_string(index=False), df_new.StateName.to_string(index=False))\n",
    "        #print(df_new.iloc[i, 3:])\n",
    "        folium.Marker(location=df_new.iloc[i, 3:],popup=f'{df_new.iloc[i, 1]},{df_new.iloc[i, 2]},{df_new.iloc[i, 3:]}',icon=folium.Icon(color=\"red\")).add_to(my_map)\n",
    "        folium.Circle(radius=100,location=df_new.iloc[i, 3:],popup=f'{df_new.iloc[i, 1]},{df_new.iloc[i, 2]}',color=\"blue\",fill=False,).add_to(my_map)\n",
    "    #Display the map\n",
    "    my_map.save(\"map.html\")\n",
    "    webbrowser.open(\"map.html\")\n",
    "# https://pandas.pydata.org/docs/reference/api/pandas.DataFrame.iloc.html > Indexing both axes\n",
    "# folium - doc > https://python-visualization.github.io/folium/quickstart.html"
   ]
  },
  {
   "cell_type": "code",
   "execution_count": 2186,
   "id": "205258d2-210e-4bf8-bb27-5dcb58052d72",
   "metadata": {},
   "outputs": [
    {
     "name": "stdout",
     "output_type": "stream",
     "text": [
      "    Pincode    District       StateName  Latitude   Longitude\n",
      "0    532440  SRIKAKULAM  ANDHRA PRADESH   83.7434     18.5618\n",
      "1    532440  SRIKAKULAM  ANDHRA PRADESH   83.7228     18.5968\n",
      "2    532440  SRIKAKULAM  ANDHRA PRADESH   83.7057     18.6339\n",
      "3    532440  SRIKAKULAM  ANDHRA PRADESH   83.7654     18.6303\n",
      "4    532440  SRIKAKULAM  ANDHRA PRADESH   83.7619     18.5294\n",
      "5    532440  SRIKAKULAM  ANDHRA PRADESH   83.7714      18.591\n",
      "6    532440  SRIKAKULAM  ANDHRA PRADESH   83.7691      18.565\n",
      "7    532440  SRIKAKULAM  ANDHRA PRADESH   83.7228     18.5968\n",
      "8    532440  SRIKAKULAM  ANDHRA PRADESH   83.7263     18.5727\n",
      "9    532440  SRIKAKULAM  ANDHRA PRADESH   83.7264     18.5728\n",
      "10   532440  SRIKAKULAM  ANDHRA PRADESH   83.7756     18.5423\n",
      "11   532440  SRIKAKULAM  ANDHRA PRADESH   83.7715     18.5911\n",
      "12   532440  SRIKAKULAM  ANDHRA PRADESH   83.7233     18.6217\n",
      "13   532440  SRIKAKULAM  ANDHRA PRADESH   83.7315     18.6318\n",
      "14   532440  SRIKAKULAM  ANDHRA PRADESH       0.0     18.5472\n",
      "15   532440  SRIKAKULAM  ANDHRA PRADESH  18.60375  83.7563333\n",
      "16\n",
      "Lat Long values are missing in the current dataset, fetching from API...\n",
      "____________________START____________________________\n",
      "    Pincode    District       StateName   Latitude   Longitude\n",
      "0    532440  SRIKAKULAM  ANDHRA PRADESH    83.7434     18.5618\n",
      "1    532440  SRIKAKULAM  ANDHRA PRADESH    83.7228     18.5968\n",
      "2    532440  SRIKAKULAM  ANDHRA PRADESH    83.7057     18.6339\n",
      "3    532440  SRIKAKULAM  ANDHRA PRADESH    83.7654     18.6303\n",
      "4    532440  SRIKAKULAM  ANDHRA PRADESH    83.7619     18.5294\n",
      "5    532440  SRIKAKULAM  ANDHRA PRADESH    83.7714      18.591\n",
      "6    532440  SRIKAKULAM  ANDHRA PRADESH    83.7691      18.565\n",
      "7    532440  SRIKAKULAM  ANDHRA PRADESH    83.7263     18.5727\n",
      "8    532440  SRIKAKULAM  ANDHRA PRADESH    83.7264     18.5728\n",
      "9    532440  SRIKAKULAM  ANDHRA PRADESH    83.7756     18.5423\n",
      "10   532440  SRIKAKULAM  ANDHRA PRADESH    83.7715     18.5911\n",
      "11   532440  SRIKAKULAM  ANDHRA PRADESH    83.7233     18.6217\n",
      "12   532440  SRIKAKULAM  ANDHRA PRADESH    83.7315     18.6318\n",
      "13   532440  SRIKAKULAM  ANDHRA PRADESH  18.588394   83.742025\n",
      "14   532440  SRIKAKULAM  ANDHRA PRADESH   18.60375  83.7563333\n"
     ]
    }
   ],
   "source": [
    "pincode = int(input(\"Enter Pincode of your place\"))\n",
    "# print(type(pincode))\n",
    "\n",
    "if len(str(pincode)) == 6:\n",
    "    if pincode in set(df2['Pincode']):\n",
    "        df_new = df2.loc[df2['Pincode'] == pincode] # https://www.geeksforgeeks.org/how-to-select-rows-from-a-dataframe-based-on-column-values/\n",
    "        # Reset the index to a single-level index starting from 0\n",
    "        df_new = df_new.reset_index(drop=True)\n",
    "        print(df_new)\n",
    "        print(len(df_new.axes[0]))\n",
    "        for i in range(len(df_new.axes[0])):\n",
    "            lat_val = df_new.iloc[i]['Latitude']\n",
    "            long_val  = df_new.iloc[i]['Longitude']\n",
    "            \n",
    "            if float(lat_val)*float(long_val) == 0.0:\n",
    "                #print(df_new.iloc[i])\n",
    "                print(\"Lat Long values are missing in the current dataset, fetching from API...\")\n",
    "                print(\"____________________START____________________________\")\n",
    "                \n",
    "                # check if the latitude and longitude data from df_new is 0, then call pgeocode API to fetch the geocoordinates of those pincodes\n",
    "                df_new.loc[i, 'Latitude'], df_new.loc[i,'Longitude'] = pinGeoLocator(pincode)\n",
    "                #df_new.drop_duplicates(subset = ['Latitude', 'Longitude'],keep = 'first', inplace = True)\n",
    "                #df_new.reset_index(drop=True,inplace=True)\n",
    "                \n",
    "            \n",
    "            #else:\n",
    "                #print(\"No Missing Lat Long Data\")\n",
    "        df_new.drop_duplicates(subset = ['Latitude', 'Longitude'],keep = 'first', inplace = True)\n",
    "        df_new.reset_index(drop=True,inplace=True)\n",
    "        print(df_new)\n",
    "        showOnMap(df_new)\n",
    "    else:\n",
    "        print(\"Pincode do not exist :(\")\n",
    "    # 421301, 411057, 577528, 828121, 833201, 532440(lat long values are interchanged)\n",
    "else:\n",
    "    print(\"Please input 6 digit pincode\")\n",
    "\n",
    "\n"
   ]
  },
  {
   "cell_type": "code",
   "execution_count": 2187,
   "id": "9dda5ea9-3c45-425e-a917-e7393dad23b8",
   "metadata": {},
   "outputs": [
    {
     "name": "stdout",
     "output_type": "stream",
     "text": [
      "        Pincode           District         StateName    Latitude   Longitude\n",
      "0        515631          ANANTAPUR    ANDHRA PRADESH     14.5689    77.85624\n",
      "3        515581          ANANTAPUR    ANDHRA PRADESH     14.2488     78.2588\n",
      "7        515571          ANANTAPUR    ANDHRA PRADESH  13.9226755  78.2011756\n",
      "17       515311          ANANTAPUR    ANDHRA PRADESH   13.805102   77.043902\n",
      "20       515281          ANANTAPUR    ANDHRA PRADESH   14.128106   76.980106\n",
      "...         ...                ...               ...         ...         ...\n",
      "157066   713217  PASCHIM BARDHAMAN       WEST BENGAL   23.572935    87.23322\n",
      "157070   713384  PASCHIM BARDHAMAN       WEST BENGAL   23.648181   87.160475\n",
      "157080   171218             SHIMLA  HIMACHAL PRADESH  31.0238333  77.1908333\n",
      "157086   171010             SHIMLA  HIMACHAL PRADESH  31.0765556  77.1394167\n",
      "157096   673006          KOZHIKODE            KERALA       11.36       75.82\n",
      "\n",
      "[19300 rows x 5 columns]\n"
     ]
    }
   ],
   "source": [
    "# we will be dropping duplicate pincodes and associated rows.\n",
    "\n",
    "# Delete duplicate rows based on specific columns \n",
    "df3 = df2.drop_duplicates(subset=['Pincode'],keep='first')\n",
    "print(df3)"
   ]
  },
  {
   "cell_type": "code",
   "execution_count": 2188,
   "id": "026ae896",
   "metadata": {},
   "outputs": [
    {
     "data": {
      "text/html": [
       "<div>\n",
       "<style scoped>\n",
       "    .dataframe tbody tr th:only-of-type {\n",
       "        vertical-align: middle;\n",
       "    }\n",
       "\n",
       "    .dataframe tbody tr th {\n",
       "        vertical-align: top;\n",
       "    }\n",
       "\n",
       "    .dataframe thead th {\n",
       "        text-align: right;\n",
       "    }\n",
       "</style>\n",
       "<table border=\"1\" class=\"dataframe\">\n",
       "  <thead>\n",
       "    <tr style=\"text-align: right;\">\n",
       "      <th></th>\n",
       "      <th>Pincode</th>\n",
       "      <th>District</th>\n",
       "      <th>StateName</th>\n",
       "      <th>Latitude</th>\n",
       "      <th>Longitude</th>\n",
       "    </tr>\n",
       "  </thead>\n",
       "  <tbody>\n",
       "    <tr>\n",
       "      <th>21241</th>\n",
       "      <td>828121</td>\n",
       "      <td>DHANBAD</td>\n",
       "      <td>JHARKHAND</td>\n",
       "      <td>23.636905</td>\n",
       "      <td>86.174699</td>\n",
       "    </tr>\n",
       "  </tbody>\n",
       "</table>\n",
       "</div>"
      ],
      "text/plain": [
       "       Pincode District  StateName   Latitude  Longitude\n",
       "21241   828121  DHANBAD  JHARKHAND  23.636905  86.174699"
      ]
     },
     "execution_count": 2188,
     "metadata": {},
     "output_type": "execute_result"
    }
   ],
   "source": [
    "df3[df3['Pincode']==828121] # no duplicates :-)\n"
   ]
  },
  {
   "cell_type": "code",
   "execution_count": 2189,
   "id": "a9665ab1",
   "metadata": {},
   "outputs": [
    {
     "name": "stdout",
     "output_type": "stream",
     "text": [
      "int64\n",
      "int64\n"
     ]
    },
    {
     "name": "stderr",
     "output_type": "stream",
     "text": [
      "/var/folders/7l/xnly7sjn0x3cmznv41sljv940000gn/T/ipykernel_9035/2928074997.py:3: SettingWithCopyWarning: \n",
      "A value is trying to be set on a copy of a slice from a DataFrame.\n",
      "Try using .loc[row_indexer,col_indexer] = value instead\n",
      "\n",
      "See the caveats in the documentation: https://pandas.pydata.org/pandas-docs/stable/user_guide/indexing.html#returning-a-view-versus-a-copy\n",
      "  df3['Pincode'] = df3['Pincode'].astype(int)\n"
     ]
    }
   ],
   "source": [
    "print(df3.Pincode.dtype)\n",
    "# changing int64 to python native int\n",
    "df3['Pincode'] = df3['Pincode'].astype(int)\n",
    "\n",
    "print(df3.Pincode.dtype)"
   ]
  },
  {
   "cell_type": "code",
   "execution_count": 2190,
   "id": "0725cc49-6097-43b7-beb8-8c7215e0d99a",
   "metadata": {},
   "outputs": [
    {
     "name": "stderr",
     "output_type": "stream",
     "text": [
      "/var/folders/7l/xnly7sjn0x3cmznv41sljv940000gn/T/ipykernel_9035/3090434117.py:2: SettingWithCopyWarning: \n",
      "A value is trying to be set on a copy of a slice from a DataFrame\n",
      "\n",
      "See the caveats in the documentation: https://pandas.pydata.org/pandas-docs/stable/user_guide/indexing.html#returning-a-view-versus-a-copy\n",
      "  df_PinStateDist.drop(['Latitude', 'Longitude'], axis=1, inplace=True)\n"
     ]
    }
   ],
   "source": [
    "df_PinStateDist = df3\n",
    "df_PinStateDist.drop(['Latitude', 'Longitude'], axis=1, inplace=True)\n",
    "df_PinStateDist\n",
    "df_PinStateDist.to_csv('PinStateDist.csv', encoding='utf-8',index=False)"
   ]
  },
  {
   "cell_type": "markdown",
   "id": "83fc438f-d0d7-4784-b50b-7c0f7dc42dfb",
   "metadata": {
    "tags": []
   },
   "source": [
    "Performing EDA -"
   ]
  },
  {
   "cell_type": "code",
   "execution_count": 2191,
   "id": "98ba7335-7cad-4a45-bcea-1e2266f29da7",
   "metadata": {
    "tags": []
   },
   "outputs": [
    {
     "name": "stdout",
     "output_type": "stream",
     "text": [
      "                                       StateName  Pincode_frequency\n",
      "0                                     TAMIL NADU               2036\n",
      "1                                  UTTAR PRADESH               1652\n",
      "2                                    MAHARASHTRA               1585\n",
      "3                                         KERALA               1425\n",
      "4                                      KARNATAKA               1347\n",
      "5                                 ANDHRA PRADESH               1228\n",
      "6                                    WEST BENGAL               1128\n",
      "7                                        GUJARAT               1007\n",
      "8                                      RAJASTHAN               1004\n",
      "9                                         ODISHA                935\n",
      "10                                         BIHAR                857\n",
      "11                                MADHYA PRADESH                770\n",
      "12                                     TELANGANA                674\n",
      "13                                         ASSAM                572\n",
      "14                                        PUNJAB                534\n",
      "15                              HIMACHAL PRADESH                436\n",
      "16                                     JHARKHAND                380\n",
      "17                                       HARYANA                315\n",
      "18                                   UTTARAKHAND                300\n",
      "19                                  CHHATTISGARH                274\n",
      "20                             JAMMU AND KASHMIR                196\n",
      "21                                         DELHI                 97\n",
      "22                                           GOA                 88\n",
      "23                                       TRIPURA                 80\n",
      "24                                     MEGHALAYA                 68\n",
      "25                                       MANIPUR                 52\n",
      "26                             ARUNACHAL PRADESH                 49\n",
      "27                                       MIZORAM                 47\n",
      "28                                      NAGALAND                 43\n",
      "29                                    CHANDIGARH                 25\n",
      "30                                    PUDUCHERRY                 22\n",
      "31                   ANDAMAN AND NICOBAR ISLANDS                 22\n",
      "32                                        SIKKIM                 19\n",
      "33                                        LADAKH                 16\n",
      "34                                   LAKSHADWEEP                  9\n",
      "35  THE DADRA AND NAGAR HAVELI AND DAMAN AND DIU                  8\n"
     ]
    },
    {
     "data": {
      "text/html": [
       "<div>\n",
       "<style scoped>\n",
       "    .dataframe tbody tr th:only-of-type {\n",
       "        vertical-align: middle;\n",
       "    }\n",
       "\n",
       "    .dataframe tbody tr th {\n",
       "        vertical-align: top;\n",
       "    }\n",
       "\n",
       "    .dataframe thead th {\n",
       "        text-align: right;\n",
       "    }\n",
       "</style>\n",
       "<table border=\"1\" class=\"dataframe\">\n",
       "  <thead>\n",
       "    <tr style=\"text-align: right;\">\n",
       "      <th></th>\n",
       "      <th>Pincode_frequency</th>\n",
       "    </tr>\n",
       "    <tr>\n",
       "      <th>StateName</th>\n",
       "      <th></th>\n",
       "    </tr>\n",
       "  </thead>\n",
       "  <tbody>\n",
       "    <tr>\n",
       "      <th>TAMIL NADU</th>\n",
       "      <td>2036</td>\n",
       "    </tr>\n",
       "    <tr>\n",
       "      <th>UTTAR PRADESH</th>\n",
       "      <td>1652</td>\n",
       "    </tr>\n",
       "    <tr>\n",
       "      <th>MAHARASHTRA</th>\n",
       "      <td>1585</td>\n",
       "    </tr>\n",
       "    <tr>\n",
       "      <th>KERALA</th>\n",
       "      <td>1425</td>\n",
       "    </tr>\n",
       "    <tr>\n",
       "      <th>KARNATAKA</th>\n",
       "      <td>1347</td>\n",
       "    </tr>\n",
       "  </tbody>\n",
       "</table>\n",
       "</div>"
      ],
      "text/plain": [
       "               Pincode_frequency\n",
       "StateName                       \n",
       "TAMIL NADU                  2036\n",
       "UTTAR PRADESH               1652\n",
       "MAHARASHTRA                 1585\n",
       "KERALA                      1425\n",
       "KARNATAKA                   1347"
      ]
     },
     "execution_count": 2191,
     "metadata": {},
     "output_type": "execute_result"
    }
   ],
   "source": [
    "df_statePin = df3.groupby(['StateName'])['Pincode'].count().reset_index(name='Pincode').sort_values(['Pincode'], ascending=False)\n",
    "# https://www.geeksforgeeks.org/how-to-extract-the-value-names-and-counts-from-value_counts-in-pandas/\n",
    "\n",
    "df_statePin = df_statePin.reset_index(drop=True)\n",
    "df_statePin.rename(columns = {'Pincode':'Pincode_frequency'}, inplace = True)\n",
    "print(df_statePin)\n",
    "\n",
    "# changed the index to StateName\n",
    "# https://pynative.com/pandas-set-index/\n",
    "\n",
    "df_statePin.set_index(['StateName'],inplace=True,verify_integrity=False)\n",
    "df_statePin.head()"
   ]
  },
  {
   "cell_type": "code",
   "execution_count": 2192,
   "id": "a8e05e48-6ceb-4474-a62c-7d639f6a0622",
   "metadata": {
    "tags": []
   },
   "outputs": [
    {
     "data": {
      "image/png": "[encoded data removed]",
      "text/plain": [
       "<Figure size 1080x360 with 1 Axes>"
      ]
     },
     "metadata": {
      "needs_background": "dark"
     },
     "output_type": "display_data"
    }
   ],
   "source": [
    "# https://www.geeksforgeeks.org/how-to-extract-the-value-names-and-counts-from-value_counts-in-pandas/\n",
    "\n",
    "df_statePin.plot(kind='bar',figsize=(15,5))\n",
    "plt.ylabel(\"Pincode_frequency\")\n",
    "plt.xlabel(\"StateName\")\n",
    "plt.title(\"Bar Graph showing Descending frequency of pincodes per state\")\n",
    "plt.show()"
   ]
  },
  {
   "cell_type": "code",
   "execution_count": 2193,
   "id": "e1aa6704-6472-444a-8729-724b3a62a137",
   "metadata": {
    "tags": []
   },
   "outputs": [
    {
     "name": "stdout",
     "output_type": "stream",
     "text": [
      "                                       StateName  District_frequency\n",
      "0                                     TAMIL NADU                2036\n",
      "1                                  UTTAR PRADESH                1652\n",
      "2                                    MAHARASHTRA                1585\n",
      "3                                         KERALA                1425\n",
      "4                                      KARNATAKA                1347\n",
      "5                                 ANDHRA PRADESH                1228\n",
      "6                                    WEST BENGAL                1128\n",
      "7                                        GUJARAT                1007\n",
      "8                                      RAJASTHAN                1004\n",
      "9                                         ODISHA                 935\n",
      "10                                         BIHAR                 857\n",
      "11                                MADHYA PRADESH                 770\n",
      "12                                     TELANGANA                 674\n",
      "13                                         ASSAM                 572\n",
      "14                                        PUNJAB                 534\n",
      "15                              HIMACHAL PRADESH                 436\n",
      "16                                     JHARKHAND                 380\n",
      "17                                       HARYANA                 315\n",
      "18                                   UTTARAKHAND                 300\n",
      "19                                  CHHATTISGARH                 274\n",
      "20                             JAMMU AND KASHMIR                 196\n",
      "21                                         DELHI                  97\n",
      "22                                           GOA                  88\n",
      "23                                       TRIPURA                  80\n",
      "24                                     MEGHALAYA                  68\n",
      "25                                       MANIPUR                  52\n",
      "26                             ARUNACHAL PRADESH                  49\n",
      "27                                       MIZORAM                  47\n",
      "28                                      NAGALAND                  43\n",
      "29                                    CHANDIGARH                  25\n",
      "30                                    PUDUCHERRY                  22\n",
      "31                   ANDAMAN AND NICOBAR ISLANDS                  22\n",
      "32                                        SIKKIM                  19\n",
      "33                                        LADAKH                  16\n",
      "34                                   LAKSHADWEEP                   9\n",
      "35  THE DADRA AND NAGAR HAVELI AND DAMAN AND DIU                   8\n"
     ]
    },
    {
     "data": {
      "text/html": [
       "<div>\n",
       "<style scoped>\n",
       "    .dataframe tbody tr th:only-of-type {\n",
       "        vertical-align: middle;\n",
       "    }\n",
       "\n",
       "    .dataframe tbody tr th {\n",
       "        vertical-align: top;\n",
       "    }\n",
       "\n",
       "    .dataframe thead th {\n",
       "        text-align: right;\n",
       "    }\n",
       "</style>\n",
       "<table border=\"1\" class=\"dataframe\">\n",
       "  <thead>\n",
       "    <tr style=\"text-align: right;\">\n",
       "      <th></th>\n",
       "      <th>District_frequency</th>\n",
       "    </tr>\n",
       "    <tr>\n",
       "      <th>StateName</th>\n",
       "      <th></th>\n",
       "    </tr>\n",
       "  </thead>\n",
       "  <tbody>\n",
       "    <tr>\n",
       "      <th>TAMIL NADU</th>\n",
       "      <td>2036</td>\n",
       "    </tr>\n",
       "    <tr>\n",
       "      <th>UTTAR PRADESH</th>\n",
       "      <td>1652</td>\n",
       "    </tr>\n",
       "    <tr>\n",
       "      <th>MAHARASHTRA</th>\n",
       "      <td>1585</td>\n",
       "    </tr>\n",
       "    <tr>\n",
       "      <th>KERALA</th>\n",
       "      <td>1425</td>\n",
       "    </tr>\n",
       "    <tr>\n",
       "      <th>KARNATAKA</th>\n",
       "      <td>1347</td>\n",
       "    </tr>\n",
       "  </tbody>\n",
       "</table>\n",
       "</div>"
      ],
      "text/plain": [
       "               District_frequency\n",
       "StateName                        \n",
       "TAMIL NADU                   2036\n",
       "UTTAR PRADESH                1652\n",
       "MAHARASHTRA                  1585\n",
       "KERALA                       1425\n",
       "KARNATAKA                    1347"
      ]
     },
     "execution_count": 2193,
     "metadata": {},
     "output_type": "execute_result"
    }
   ],
   "source": [
    "df_stateDist = df3.groupby(['StateName'])['District'].count().reset_index(name='District').sort_values(['District'], ascending=False)\n",
    "# https://www.geeksforgeeks.org/how-to-extract-the-value-names-and-counts-from-value_counts-in-pandas/\n",
    "\n",
    "df_stateDist = df_stateDist.reset_index(drop=True)\n",
    "df_stateDist.rename(columns = {'District':'District_frequency'}, inplace = True)\n",
    "print(df_stateDist)\n",
    "\n",
    "# changed the index to StateName\n",
    "# https://pynative.com/pandas-set-index/\n",
    "\n",
    "df_stateDist.set_index(['StateName'],inplace=True,verify_integrity=False)\n",
    "df_stateDist.head()"
   ]
  },
  {
   "cell_type": "code",
   "execution_count": 2194,
   "id": "67efabdd-d82a-4c44-8ef5-c0d124521a7e",
   "metadata": {},
   "outputs": [
    {
     "data": {
      "image/png": "[encoded data removed]",
      "text/plain": [
       "<Figure size 1080x360 with 1 Axes>"
      ]
     },
     "metadata": {
      "needs_background": "dark"
     },
     "output_type": "display_data"
    }
   ],
   "source": [
    "df_stateDist.plot(kind='bar',figsize=(15,5))\n",
    "plt.ylabel(\"District_frequency\")\n",
    "plt.xlabel(\"StateName\")\n",
    "plt.title(\"Bar Graph showing Descending frequency of pincodes per state\")\n",
    "plt.show()"
   ]
  },
  {
   "cell_type": "code",
   "execution_count": 2195,
   "id": "6ec2f097-423f-4e4d-a3c4-031740e89b1b",
   "metadata": {},
   "outputs": [
    {
     "data": {
      "text/plain": [
       "[22,\n",
       " 1228,\n",
       " 49,\n",
       " 572,\n",
       " 857,\n",
       " 25,\n",
       " 274,\n",
       " 97,\n",
       " 88,\n",
       " 1007,\n",
       " 315,\n",
       " 436,\n",
       " 196,\n",
       " 380,\n",
       " 1347,\n",
       " 1425,\n",
       " 16,\n",
       " 9,\n",
       " 770,\n",
       " 1585,\n",
       " 52,\n",
       " 68,\n",
       " 47,\n",
       " 43,\n",
       " 935,\n",
       " 22,\n",
       " 534,\n",
       " 1004,\n",
       " 19,\n",
       " 2036,\n",
       " 674,\n",
       " 8,\n",
       " 80,\n",
       " 1652,\n",
       " 300,\n",
       " 1128]"
      ]
     },
     "execution_count": 2195,
     "metadata": {},
     "output_type": "execute_result"
    }
   ],
   "source": [
    "y = list(df3.groupby(['StateName'])['Pincode'].count())\n",
    "y"
   ]
  },
  {
   "cell_type": "code",
   "execution_count": 2196,
   "id": "20474b3d-e55c-4412-ae40-a3732bf9306e",
   "metadata": {},
   "outputs": [
    {
     "ename": "SyntaxError",
     "evalue": "invalid syntax (1862238462.py, line 2)",
     "output_type": "error",
     "traceback": [
      "\u001b[0;36m  Input \u001b[0;32mIn [2196]\u001b[0;36m\u001b[0m\n\u001b[0;31m    x\u001b[0m\n\u001b[0m    ^\u001b[0m\n\u001b[0;31mSyntaxError\u001b[0m\u001b[0;31m:\u001b[0m invalid syntax\n"
     ]
    }
   ],
   "source": [
    "x = list(df3.groupby(['StateName'])\n",
    "x"
   ]
  },
  {
   "cell_type": "code",
   "execution_count": null,
   "id": "1427218f-10b7-4aac-942e-15f8c5d93d62",
   "metadata": {},
   "outputs": [],
   "source": [
    "# Visualising the number of unique pincodes in a state - Histogram\n",
    "\n",
    "hist = df_statePin.hist(bins=10)\n"
   ]
  },
  {
   "cell_type": "code",
   "execution_count": null,
   "id": "80810c2b-ca23-4059-94d9-140c2c2d9066",
   "metadata": {},
   "outputs": [],
   "source": [
    "bihar_df"
   ]
  },
  {
   "cell_type": "markdown",
   "id": "2148f7c0-8b43-4500-aaa5-3b4a4eb6eee2",
   "metadata": {},
   "source": []
  },
  {
   "attachments": {},
   "cell_type": "markdown",
   "id": "a64b4d7a",
   "metadata": {},
   "source": [
    "Pushing Code to Git -\n",
    "https://komodor.com/blog/solving-fatal-not-a-git-repository-error/\n",
    "1. follow the steps mentioned in order from point 1\n",
    "git init > git status > git add . > git commit -m \"blabla\" > git remote add origin <repo link> > git branch -M main > git push -u origin main"
   ]
  }
 ],
 "metadata": {
  "kernelspec": {
   "display_name": "Python 3 (ipykernel)",
   "language": "python",
   "name": "python3"
  },
  "language_info": {
   "codemirror_mode": {
    "name": "ipython",
    "version": 3
   },
   "file_extension": ".py",
   "mimetype": "text/x-python",
   "name": "python",
   "nbconvert_exporter": "python",
   "pygments_lexer": "ipython3",
   "version": "3.9.12"
  }
 },
 "nbformat": 4,
 "nbformat_minor": 5
}

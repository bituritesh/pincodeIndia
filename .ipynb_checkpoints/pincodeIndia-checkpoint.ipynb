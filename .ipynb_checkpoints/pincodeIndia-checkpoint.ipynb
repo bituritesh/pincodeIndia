{
 "cells": [
  {
   "cell_type": "code",
   "execution_count": 1,
   "id": "e85f2ae3-b1cd-45c7-82c1-7e83c070a53e",
   "metadata": {},
   "outputs": [],
   "source": [
    "import pandas as pd\n",
    "import numpy as np\n",
    "import matplotlib.pyplot as plt\n",
    "import seaborn as sns\n",
    "\n",
    "%matplotlib inline "
   ]
  },
  {
   "cell_type": "code",
   "execution_count": 2,
   "id": "c23a7f84-89d2-4f9e-a59d-9a39497d916e",
   "metadata": {},
   "outputs": [
    {
     "name": "stderr",
     "output_type": "stream",
     "text": [
      "/var/folders/7l/xnly7sjn0x3cmznv41sljv940000gn/T/ipykernel_66170/3965640415.py:1: DtypeWarning: Columns (9) have mixed types. Specify dtype option on import or set low_memory=False.\n",
      "  df = pd.read_csv('Pincode/pincode.csv', usecols=['StateName','District','Pincode','Latitude','Longitude'])\n"
     ]
    },
    {
     "data": {
      "text/html": [
       "<div>\n",
       "<style scoped>\n",
       "    .dataframe tbody tr th:only-of-type {\n",
       "        vertical-align: middle;\n",
       "    }\n",
       "\n",
       "    .dataframe tbody tr th {\n",
       "        vertical-align: top;\n",
       "    }\n",
       "\n",
       "    .dataframe thead th {\n",
       "        text-align: right;\n",
       "    }\n",
       "</style>\n",
       "<table border=\"1\" class=\"dataframe\">\n",
       "  <thead>\n",
       "    <tr style=\"text-align: right;\">\n",
       "      <th></th>\n",
       "      <th>Pincode</th>\n",
       "      <th>District</th>\n",
       "      <th>StateName</th>\n",
       "      <th>Latitude</th>\n",
       "      <th>Longitude</th>\n",
       "    </tr>\n",
       "  </thead>\n",
       "  <tbody>\n",
       "    <tr>\n",
       "      <th>0</th>\n",
       "      <td>515631</td>\n",
       "      <td>ANANTAPUR</td>\n",
       "      <td>ANDHRA PRADESH</td>\n",
       "      <td>14.5689</td>\n",
       "      <td>77.85624</td>\n",
       "    </tr>\n",
       "    <tr>\n",
       "      <th>1</th>\n",
       "      <td>515631</td>\n",
       "      <td>ANANTAPUR</td>\n",
       "      <td>ANDHRA PRADESH</td>\n",
       "      <td>14.5281</td>\n",
       "      <td>77.857014</td>\n",
       "    </tr>\n",
       "    <tr>\n",
       "      <th>2</th>\n",
       "      <td>515631</td>\n",
       "      <td>ANANTAPUR</td>\n",
       "      <td>ANDHRA PRADESH</td>\n",
       "      <td>14.561111</td>\n",
       "      <td>77.85715</td>\n",
       "    </tr>\n",
       "    <tr>\n",
       "      <th>3</th>\n",
       "      <td>515581</td>\n",
       "      <td>ANANTAPUR</td>\n",
       "      <td>ANDHRA PRADESH</td>\n",
       "      <td>14.2488</td>\n",
       "      <td>78.2588</td>\n",
       "    </tr>\n",
       "    <tr>\n",
       "      <th>4</th>\n",
       "      <td>515581</td>\n",
       "      <td>ANANTAPUR</td>\n",
       "      <td>ANDHRA PRADESH</td>\n",
       "      <td>14.24555</td>\n",
       "      <td>78.2477</td>\n",
       "    </tr>\n",
       "  </tbody>\n",
       "</table>\n",
       "</div>"
      ],
      "text/plain": [
       "   Pincode   District       StateName   Latitude  Longitude\n",
       "0   515631  ANANTAPUR  ANDHRA PRADESH    14.5689   77.85624\n",
       "1   515631  ANANTAPUR  ANDHRA PRADESH    14.5281  77.857014\n",
       "2   515631  ANANTAPUR  ANDHRA PRADESH  14.561111   77.85715\n",
       "3   515581  ANANTAPUR  ANDHRA PRADESH    14.2488    78.2588\n",
       "4   515581  ANANTAPUR  ANDHRA PRADESH   14.24555    78.2477"
      ]
     },
     "execution_count": 2,
     "metadata": {},
     "output_type": "execute_result"
    }
   ],
   "source": [
    "df = pd.read_csv('Pincode/pincode.csv', usecols=['StateName','District','Pincode','Latitude','Longitude'])\n",
    "df.head()"
   ]
  },
  {
   "cell_type": "code",
   "execution_count": 3,
   "id": "2d907b65-a3f4-474e-9366-0e0997684e6b",
   "metadata": {},
   "outputs": [
    {
     "data": {
      "text/plain": [
       "(157126, 5)"
      ]
     },
     "execution_count": 3,
     "metadata": {},
     "output_type": "execute_result"
    }
   ],
   "source": [
    "df.shape"
   ]
  },
  {
   "cell_type": "code",
   "execution_count": 4,
   "id": "523a03d2-fd54-42ce-9b80-f9f433b62053",
   "metadata": {},
   "outputs": [
    {
     "name": "stdout",
     "output_type": "stream",
     "text": [
      "<class 'pandas.core.frame.DataFrame'>\n",
      "RangeIndex: 157126 entries, 0 to 157125\n",
      "Data columns (total 5 columns):\n",
      " #   Column     Non-Null Count   Dtype \n",
      "---  ------     --------------   ----- \n",
      " 0   Pincode    157126 non-null  int64 \n",
      " 1   District   157126 non-null  object\n",
      " 2   StateName  157126 non-null  object\n",
      " 3   Latitude   148288 non-null  object\n",
      " 4   Longitude  148283 non-null  object\n",
      "dtypes: int64(1), object(4)\n",
      "memory usage: 6.0+ MB\n",
      "Pincode       int64\n",
      "District     object\n",
      "StateName    object\n",
      "Latitude     object\n",
      "Longitude    object\n",
      "dtype: object\n"
     ]
    }
   ],
   "source": [
    "df.info()\n",
    "print(df.dtypes)"
   ]
  },
  {
   "cell_type": "markdown",
   "id": "1fa98112-f21e-411e-be73-6f3a3179d9cd",
   "metadata": {},
   "source": [
    "longitude ,Latitude = blanks, 0 , NA\n",
    "feature engineering -  replacing all unwanted values with 0"
   ]
  },
  {
   "cell_type": "code",
   "execution_count": 5,
   "id": "209c423e-c7e5-4f75-aef9-7ff3571f9a82",
   "metadata": {},
   "outputs": [],
   "source": [
    "df['Latitude'] = df['Latitude'].astype('str')\n",
    "df['Longitude'] = df['Longitude'].astype('str')"
   ]
  },
  {
   "cell_type": "code",
   "execution_count": 6,
   "id": "9fd2a7ae-82cf-484f-90ad-2a8bf46223cd",
   "metadata": {},
   "outputs": [
    {
     "name": "stdout",
     "output_type": "stream",
     "text": [
      "<class 'pandas.core.frame.DataFrame'>\n",
      "RangeIndex: 157126 entries, 0 to 157125\n",
      "Data columns (total 2 columns):\n",
      " #   Column     Non-Null Count   Dtype  \n",
      "---  ------     --------------   -----  \n",
      " 0   Latitude   157126 non-null  float64\n",
      " 1   Longitude  157126 non-null  float64\n",
      "dtypes: float64(2)\n",
      "memory usage: 2.4 MB\n"
     ]
    }
   ],
   "source": [
    "df2 = df[['Latitude','Longitude']].apply(lambda x: x.str.strip()).replace('', np.nan)\n",
    "df3 = df2[['Latitude','Longitude']].apply(lambda x: x.str.strip()).replace('NA', np.nan)\n",
    "\n",
    "# We can then use the to_numeric approach in order to convert the values under the ‘'Latitude','Longitude' column into floats\n",
    "# By setting errors=’coerce’, we’ll transform the non-numeric values into NaN.\n",
    "df3['Latitude'] = pd.to_numeric(df3['Latitude'], errors='coerce')\n",
    "df3['Longitude'] = pd.to_numeric(df3['Longitude'], errors='coerce')\n",
    "# https://datatofish.com/convert-string-to-float-dataframe/\n",
    "\n",
    "df3 = df3[['Latitude','Longitude']].replace(np.nan,0,regex=True) # https://sparkbyexamples.com/pandas/pandas-replace-blank-values-with-nan/\n",
    "\n",
    "df3.info()"
   ]
  },
  {
   "cell_type": "code",
   "execution_count": 7,
   "id": "6b6fd581-a67c-42ae-99c6-67506d360321",
   "metadata": {},
   "outputs": [
    {
     "data": {
      "text/html": [
       "<div>\n",
       "<style scoped>\n",
       "    .dataframe tbody tr th:only-of-type {\n",
       "        vertical-align: middle;\n",
       "    }\n",
       "\n",
       "    .dataframe tbody tr th {\n",
       "        vertical-align: top;\n",
       "    }\n",
       "\n",
       "    .dataframe thead th {\n",
       "        text-align: right;\n",
       "    }\n",
       "</style>\n",
       "<table border=\"1\" class=\"dataframe\">\n",
       "  <thead>\n",
       "    <tr style=\"text-align: right;\">\n",
       "      <th></th>\n",
       "      <th>Latitude</th>\n",
       "      <th>Longitude</th>\n",
       "    </tr>\n",
       "  </thead>\n",
       "  <tbody>\n",
       "    <tr>\n",
       "      <th>0</th>\n",
       "      <td>14.568900</td>\n",
       "      <td>77.856240</td>\n",
       "    </tr>\n",
       "    <tr>\n",
       "      <th>1</th>\n",
       "      <td>14.528100</td>\n",
       "      <td>77.857014</td>\n",
       "    </tr>\n",
       "    <tr>\n",
       "      <th>2</th>\n",
       "      <td>14.561111</td>\n",
       "      <td>77.857150</td>\n",
       "    </tr>\n",
       "    <tr>\n",
       "      <th>3</th>\n",
       "      <td>14.248800</td>\n",
       "      <td>78.258800</td>\n",
       "    </tr>\n",
       "    <tr>\n",
       "      <th>4</th>\n",
       "      <td>14.245550</td>\n",
       "      <td>78.247700</td>\n",
       "    </tr>\n",
       "    <tr>\n",
       "      <th>...</th>\n",
       "      <td>...</td>\n",
       "      <td>...</td>\n",
       "    </tr>\n",
       "    <tr>\n",
       "      <th>157121</th>\n",
       "      <td>28.980000</td>\n",
       "      <td>77.680000</td>\n",
       "    </tr>\n",
       "    <tr>\n",
       "      <th>157122</th>\n",
       "      <td>28.972400</td>\n",
       "      <td>77.675360</td>\n",
       "    </tr>\n",
       "    <tr>\n",
       "      <th>157123</th>\n",
       "      <td>28.990000</td>\n",
       "      <td>77.710000</td>\n",
       "    </tr>\n",
       "    <tr>\n",
       "      <th>157124</th>\n",
       "      <td>11.245290</td>\n",
       "      <td>75.778455</td>\n",
       "    </tr>\n",
       "    <tr>\n",
       "      <th>157125</th>\n",
       "      <td>11.350000</td>\n",
       "      <td>75.910000</td>\n",
       "    </tr>\n",
       "  </tbody>\n",
       "</table>\n",
       "<p>157126 rows × 2 columns</p>\n",
       "</div>"
      ],
      "text/plain": [
       "         Latitude  Longitude\n",
       "0       14.568900  77.856240\n",
       "1       14.528100  77.857014\n",
       "2       14.561111  77.857150\n",
       "3       14.248800  78.258800\n",
       "4       14.245550  78.247700\n",
       "...           ...        ...\n",
       "157121  28.980000  77.680000\n",
       "157122  28.972400  77.675360\n",
       "157123  28.990000  77.710000\n",
       "157124  11.245290  75.778455\n",
       "157125  11.350000  75.910000\n",
       "\n",
       "[157126 rows x 2 columns]"
      ]
     },
     "execution_count": 7,
     "metadata": {},
     "output_type": "execute_result"
    }
   ],
   "source": [
    "df3"
   ]
  },
  {
   "cell_type": "code",
   "execution_count": 8,
   "id": "a0cc3ab0-3951-458e-af6e-1dc241750bbb",
   "metadata": {},
   "outputs": [],
   "source": [
    "# exporting csv file for df3 to check all blanks, NA with 0\n",
    "# df3.to_csv('lat_long.csv', encoding='utf-8',index=True)"
   ]
  },
  {
   "cell_type": "code",
   "execution_count": 9,
   "id": "d32374c1-d370-4ecd-b1b8-e84af85cb291",
   "metadata": {},
   "outputs": [
    {
     "data": {
      "text/html": [
       "<div>\n",
       "<style scoped>\n",
       "    .dataframe tbody tr th:only-of-type {\n",
       "        vertical-align: middle;\n",
       "    }\n",
       "\n",
       "    .dataframe tbody tr th {\n",
       "        vertical-align: top;\n",
       "    }\n",
       "\n",
       "    .dataframe thead th {\n",
       "        text-align: right;\n",
       "    }\n",
       "</style>\n",
       "<table border=\"1\" class=\"dataframe\">\n",
       "  <thead>\n",
       "    <tr style=\"text-align: right;\">\n",
       "      <th></th>\n",
       "      <th>Pincode</th>\n",
       "      <th>District</th>\n",
       "      <th>StateName</th>\n",
       "    </tr>\n",
       "  </thead>\n",
       "  <tbody>\n",
       "    <tr>\n",
       "      <th>0</th>\n",
       "      <td>515631</td>\n",
       "      <td>ANANTAPUR</td>\n",
       "      <td>ANDHRA PRADESH</td>\n",
       "    </tr>\n",
       "    <tr>\n",
       "      <th>1</th>\n",
       "      <td>515631</td>\n",
       "      <td>ANANTAPUR</td>\n",
       "      <td>ANDHRA PRADESH</td>\n",
       "    </tr>\n",
       "    <tr>\n",
       "      <th>2</th>\n",
       "      <td>515631</td>\n",
       "      <td>ANANTAPUR</td>\n",
       "      <td>ANDHRA PRADESH</td>\n",
       "    </tr>\n",
       "    <tr>\n",
       "      <th>3</th>\n",
       "      <td>515581</td>\n",
       "      <td>ANANTAPUR</td>\n",
       "      <td>ANDHRA PRADESH</td>\n",
       "    </tr>\n",
       "    <tr>\n",
       "      <th>4</th>\n",
       "      <td>515581</td>\n",
       "      <td>ANANTAPUR</td>\n",
       "      <td>ANDHRA PRADESH</td>\n",
       "    </tr>\n",
       "    <tr>\n",
       "      <th>...</th>\n",
       "      <td>...</td>\n",
       "      <td>...</td>\n",
       "      <td>...</td>\n",
       "    </tr>\n",
       "    <tr>\n",
       "      <th>157121</th>\n",
       "      <td>250002</td>\n",
       "      <td>MEERUT</td>\n",
       "      <td>UTTAR PRADESH</td>\n",
       "    </tr>\n",
       "    <tr>\n",
       "      <th>157122</th>\n",
       "      <td>250002</td>\n",
       "      <td>MEERUT</td>\n",
       "      <td>UTTAR PRADESH</td>\n",
       "    </tr>\n",
       "    <tr>\n",
       "      <th>157123</th>\n",
       "      <td>250001</td>\n",
       "      <td>MEERUT</td>\n",
       "      <td>UTTAR PRADESH</td>\n",
       "    </tr>\n",
       "    <tr>\n",
       "      <th>157124</th>\n",
       "      <td>673611</td>\n",
       "      <td>KOZHIKODE</td>\n",
       "      <td>KERALA</td>\n",
       "    </tr>\n",
       "    <tr>\n",
       "      <th>157125</th>\n",
       "      <td>673572</td>\n",
       "      <td>KOZHIKODE</td>\n",
       "      <td>KERALA</td>\n",
       "    </tr>\n",
       "  </tbody>\n",
       "</table>\n",
       "<p>157126 rows × 3 columns</p>\n",
       "</div>"
      ],
      "text/plain": [
       "        Pincode   District       StateName\n",
       "0        515631  ANANTAPUR  ANDHRA PRADESH\n",
       "1        515631  ANANTAPUR  ANDHRA PRADESH\n",
       "2        515631  ANANTAPUR  ANDHRA PRADESH\n",
       "3        515581  ANANTAPUR  ANDHRA PRADESH\n",
       "4        515581  ANANTAPUR  ANDHRA PRADESH\n",
       "...         ...        ...             ...\n",
       "157121   250002     MEERUT   UTTAR PRADESH\n",
       "157122   250002     MEERUT   UTTAR PRADESH\n",
       "157123   250001     MEERUT   UTTAR PRADESH\n",
       "157124   673611  KOZHIKODE          KERALA\n",
       "157125   673572  KOZHIKODE          KERALA\n",
       "\n",
       "[157126 rows x 3 columns]"
      ]
     },
     "execution_count": 9,
     "metadata": {},
     "output_type": "execute_result"
    }
   ],
   "source": [
    "df.drop(df.iloc[:, 3:], inplace=True, axis=1)\n",
    "df"
   ]
  },
  {
   "cell_type": "code",
   "execution_count": 10,
   "id": "d1ff90c2-7a35-4f1f-981b-433a50f973f3",
   "metadata": {},
   "outputs": [
    {
     "name": "stdout",
     "output_type": "stream",
     "text": [
      "        Pincode   District       StateName   Latitude  Longitude\n",
      "0        515631  ANANTAPUR  ANDHRA PRADESH  14.568900  77.856240\n",
      "1        515631  ANANTAPUR  ANDHRA PRADESH  14.528100  77.857014\n",
      "2        515631  ANANTAPUR  ANDHRA PRADESH  14.561111  77.857150\n",
      "3        515581  ANANTAPUR  ANDHRA PRADESH  14.248800  78.258800\n",
      "4        515581  ANANTAPUR  ANDHRA PRADESH  14.245550  78.247700\n",
      "...         ...        ...             ...        ...        ...\n",
      "157121   250002     MEERUT   UTTAR PRADESH  28.980000  77.680000\n",
      "157122   250002     MEERUT   UTTAR PRADESH  28.972400  77.675360\n",
      "157123   250001     MEERUT   UTTAR PRADESH  28.990000  77.710000\n",
      "157124   673611  KOZHIKODE          KERALA  11.245290  75.778455\n",
      "157125   673572  KOZHIKODE          KERALA  11.350000  75.910000\n",
      "\n",
      "[157126 rows x 5 columns]\n"
     ]
    }
   ],
   "source": [
    "frames = [df, df3]\n",
    "# https://sparkbyexamples.com/pandas/pandas-merge-two-dataframes-by-index/ \n",
    "# join two DataFrames with concat\n",
    "df2 = pd.concat([df, df3], axis=1)\n",
    "print(df2)"
   ]
  },
  {
   "cell_type": "code",
   "execution_count": 11,
   "id": "4e706fce-3045-4fa4-891c-abcd321f7796",
   "metadata": {},
   "outputs": [
    {
     "data": {
      "text/plain": [
       "19300"
      ]
     },
     "execution_count": 11,
     "metadata": {},
     "output_type": "execute_result"
    }
   ],
   "source": [
    "df2['Pincode'].nunique()"
   ]
  },
  {
   "cell_type": "code",
   "execution_count": 12,
   "id": "8e92035e-d917-4e95-a4e4-15db12f04e02",
   "metadata": {},
   "outputs": [
    {
     "data": {
      "text/plain": [
       "494001    73\n",
       "494442    72\n",
       "494441    69\n",
       "494226    69\n",
       "491441    67\n",
       "          ..\n",
       "411031     1\n",
       "411035     1\n",
       "826010     1\n",
       "828123     1\n",
       "673006     1\n",
       "Name: Pincode, Length: 19300, dtype: int64"
      ]
     },
     "execution_count": 12,
     "metadata": {},
     "output_type": "execute_result"
    }
   ],
   "source": [
    "df['Pincode'].value_counts() # here we can see that in the original data there are multiple duplicatre pincodes we will keep\n",
    "# the first one and drop the remaining."
   ]
  },
  {
   "cell_type": "code",
   "execution_count": 13,
   "id": "802d1301-64a0-4eb9-86a0-bde498e5f087",
   "metadata": {},
   "outputs": [
    {
     "data": {
      "text/plain": [
       "494001    73\n",
       "494442    72\n",
       "494441    69\n",
       "494226    69\n",
       "491441    67\n",
       "          ..\n",
       "411031     1\n",
       "411035     1\n",
       "826010     1\n",
       "828123     1\n",
       "673006     1\n",
       "Name: Pincode, Length: 19300, dtype: int64"
      ]
     },
     "execution_count": 13,
     "metadata": {},
     "output_type": "execute_result"
    }
   ],
   "source": [
    "df2['Pincode'].value_counts()\n",
    "# here we can see that in the original data there are multiple duplicatre pincodes we will keep\n",
    "# the first one and drop the remaining."
   ]
  },
  {
   "cell_type": "code",
   "execution_count": 14,
   "id": "9dda5ea9-3c45-425e-a917-e7393dad23b8",
   "metadata": {},
   "outputs": [
    {
     "name": "stdout",
     "output_type": "stream",
     "text": [
      "        Pincode           District         StateName   Latitude  Longitude\n",
      "0        515631          ANANTAPUR    ANDHRA PRADESH  14.568900  77.856240\n",
      "3        515581          ANANTAPUR    ANDHRA PRADESH  14.248800  78.258800\n",
      "7        515571          ANANTAPUR    ANDHRA PRADESH  13.922676  78.201176\n",
      "17       515311          ANANTAPUR    ANDHRA PRADESH  13.805102  77.043902\n",
      "20       515281          ANANTAPUR    ANDHRA PRADESH  14.128106  76.980106\n",
      "...         ...                ...               ...        ...        ...\n",
      "157066   713217  PASCHIM BARDHAMAN       WEST BENGAL  23.572935  87.233220\n",
      "157070   713384  PASCHIM BARDHAMAN       WEST BENGAL  23.648181  87.160475\n",
      "157080   171218             SHIMLA  HIMACHAL PRADESH  31.023833  77.190833\n",
      "157086   171010             SHIMLA  HIMACHAL PRADESH  31.076556  77.139417\n",
      "157096   673006          KOZHIKODE            KERALA  11.360000  75.820000\n",
      "\n",
      "[19300 rows x 5 columns]\n"
     ]
    }
   ],
   "source": [
    "# we will be dropping duplicate pincodes and associated rows.\n",
    "\n",
    "# Delete duplicate rows based on specific columns \n",
    "df3 = df2.drop_duplicates(subset=['Pincode'],keep='first')\n",
    "print(df3)"
   ]
  },
  {
   "cell_type": "code",
   "execution_count": 15,
   "id": "205258d2-210e-4bf8-bb27-5dcb58052d72",
   "metadata": {},
   "outputs": [
    {
     "data": {
      "text/html": [
       "<div>\n",
       "<style scoped>\n",
       "    .dataframe tbody tr th:only-of-type {\n",
       "        vertical-align: middle;\n",
       "    }\n",
       "\n",
       "    .dataframe tbody tr th {\n",
       "        vertical-align: top;\n",
       "    }\n",
       "\n",
       "    .dataframe thead th {\n",
       "        text-align: right;\n",
       "    }\n",
       "</style>\n",
       "<table border=\"1\" class=\"dataframe\">\n",
       "  <thead>\n",
       "    <tr style=\"text-align: right;\">\n",
       "      <th></th>\n",
       "      <th>Pincode</th>\n",
       "      <th>District</th>\n",
       "      <th>StateName</th>\n",
       "      <th>Latitude</th>\n",
       "      <th>Longitude</th>\n",
       "    </tr>\n",
       "  </thead>\n",
       "  <tbody>\n",
       "    <tr>\n",
       "      <th>21241</th>\n",
       "      <td>828121</td>\n",
       "      <td>DHANBAD</td>\n",
       "      <td>JHARKHAND</td>\n",
       "      <td>23.636905</td>\n",
       "      <td>86.174699</td>\n",
       "    </tr>\n",
       "  </tbody>\n",
       "</table>\n",
       "</div>"
      ],
      "text/plain": [
       "       Pincode District  StateName   Latitude  Longitude\n",
       "21241   828121  DHANBAD  JHARKHAND  23.636905  86.174699"
      ]
     },
     "execution_count": 15,
     "metadata": {},
     "output_type": "execute_result"
    }
   ],
   "source": [
    "df3[df3['Pincode']==828121] # no duplicates :-)"
   ]
  },
  {
   "cell_type": "code",
   "execution_count": 43,
   "id": "d5f08f2f-e725-4fcd-93f3-50544a4cece9",
   "metadata": {},
   "outputs": [
    {
     "name": "stdin",
     "output_type": "stream",
     "text": [
      "Enter Pincode of your place 828121\n"
     ]
    },
    {
     "name": "stdout",
     "output_type": "stream",
     "text": [
      "DHANBAD JHARKHAND\n"
     ]
    }
   ],
   "source": [
    "pincode = int(input(\"Enter Pincode of your place\"))\n",
    "# df3[df3['Pincode']== pincode]:\n",
    "df_new = df3.loc[df['Pincode'] == pincode] # https://www.geeksforgeeks.org/how-to-select-rows-from-a-dataframe-based-on-column-values/\n",
    "print(df_new.District.to_string(index=False), df_new.StateName.to_string(index=False))\n"
   ]
  },
  {
   "cell_type": "markdown",
   "id": "83fc438f-d0d7-4784-b50b-7c0f7dc42dfb",
   "metadata": {
    "tags": []
   },
   "source": [
    "Performing EDA -"
   ]
  },
  {
   "cell_type": "code",
   "execution_count": 17,
   "id": "98ba7335-7cad-4a45-bcea-1e2266f29da7",
   "metadata": {
    "tags": []
   },
   "outputs": [
    {
     "name": "stdout",
     "output_type": "stream",
     "text": [
      "                                       StateName  Pincode_frequency\n",
      "0                                     TAMIL NADU               2036\n",
      "1                                  UTTAR PRADESH               1652\n",
      "2                                    MAHARASHTRA               1585\n",
      "3                                         KERALA               1425\n",
      "4                                      KARNATAKA               1347\n",
      "5                                 ANDHRA PRADESH               1228\n",
      "6                                    WEST BENGAL               1128\n",
      "7                                        GUJARAT               1007\n",
      "8                                      RAJASTHAN               1004\n",
      "9                                         ODISHA                935\n",
      "10                                         BIHAR                857\n",
      "11                                MADHYA PRADESH                770\n",
      "12                                     TELANGANA                674\n",
      "13                                         ASSAM                572\n",
      "14                                        PUNJAB                534\n",
      "15                              HIMACHAL PRADESH                436\n",
      "16                                     JHARKHAND                380\n",
      "17                                       HARYANA                315\n",
      "18                                   UTTARAKHAND                300\n",
      "19                                  CHHATTISGARH                274\n",
      "20                             JAMMU AND KASHMIR                196\n",
      "21                                         DELHI                 97\n",
      "22                                           GOA                 88\n",
      "23                                       TRIPURA                 80\n",
      "24                                     MEGHALAYA                 68\n",
      "25                                       MANIPUR                 52\n",
      "26                             ARUNACHAL PRADESH                 49\n",
      "27                                       MIZORAM                 47\n",
      "28                                      NAGALAND                 43\n",
      "29                                    CHANDIGARH                 25\n",
      "30                                    PUDUCHERRY                 22\n",
      "31                   ANDAMAN AND NICOBAR ISLANDS                 22\n",
      "32                                        SIKKIM                 19\n",
      "33                                        LADAKH                 16\n",
      "34                                   LAKSHADWEEP                  9\n",
      "35  THE DADRA AND NAGAR HAVELI AND DAMAN AND DIU                  8\n"
     ]
    },
    {
     "data": {
      "text/html": [
       "<div>\n",
       "<style scoped>\n",
       "    .dataframe tbody tr th:only-of-type {\n",
       "        vertical-align: middle;\n",
       "    }\n",
       "\n",
       "    .dataframe tbody tr th {\n",
       "        vertical-align: top;\n",
       "    }\n",
       "\n",
       "    .dataframe thead th {\n",
       "        text-align: right;\n",
       "    }\n",
       "</style>\n",
       "<table border=\"1\" class=\"dataframe\">\n",
       "  <thead>\n",
       "    <tr style=\"text-align: right;\">\n",
       "      <th></th>\n",
       "      <th>Pincode_frequency</th>\n",
       "    </tr>\n",
       "    <tr>\n",
       "      <th>StateName</th>\n",
       "      <th></th>\n",
       "    </tr>\n",
       "  </thead>\n",
       "  <tbody>\n",
       "    <tr>\n",
       "      <th>TAMIL NADU</th>\n",
       "      <td>2036</td>\n",
       "    </tr>\n",
       "    <tr>\n",
       "      <th>UTTAR PRADESH</th>\n",
       "      <td>1652</td>\n",
       "    </tr>\n",
       "    <tr>\n",
       "      <th>MAHARASHTRA</th>\n",
       "      <td>1585</td>\n",
       "    </tr>\n",
       "    <tr>\n",
       "      <th>KERALA</th>\n",
       "      <td>1425</td>\n",
       "    </tr>\n",
       "    <tr>\n",
       "      <th>KARNATAKA</th>\n",
       "      <td>1347</td>\n",
       "    </tr>\n",
       "  </tbody>\n",
       "</table>\n",
       "</div>"
      ],
      "text/plain": [
       "               Pincode_frequency\n",
       "StateName                       \n",
       "TAMIL NADU                  2036\n",
       "UTTAR PRADESH               1652\n",
       "MAHARASHTRA                 1585\n",
       "KERALA                      1425\n",
       "KARNATAKA                   1347"
      ]
     },
     "execution_count": 17,
     "metadata": {},
     "output_type": "execute_result"
    }
   ],
   "source": [
    "df_statePin = df3.groupby(['StateName'])['Pincode'].count().reset_index(name='Pincode').sort_values(['Pincode'], ascending=False)\n",
    "# https://www.geeksforgeeks.org/how-to-extract-the-value-names-and-counts-from-value_counts-in-pandas/\n",
    "\n",
    "df_statePin = df_statePin.reset_index(drop=True)\n",
    "df_statePin.rename(columns = {'Pincode':'Pincode_frequency'}, inplace = True)\n",
    "print(df_statePin)\n",
    "\n",
    "# changed the index to StateName\n",
    "# https://pynative.com/pandas-set-index/\n",
    "\n",
    "df_statePin.set_index(['StateName'],inplace=True,verify_integrity=False)\n",
    "df_statePin.head()"
   ]
  },
  {
   "cell_type": "code",
   "execution_count": 18,
   "id": "a8e05e48-6ceb-4474-a62c-7d639f6a0622",
   "metadata": {
    "tags": []
   },
   "outputs": [
    {
     "data": {
      "image/png": "[encoded data removed]",
      "text/plain": [
       "<Figure size 1080x360 with 1 Axes>"
      ]
     },
     "metadata": {
      "needs_background": "light"
     },
     "output_type": "display_data"
    }
   ],
   "source": [
    "# https://www.geeksforgeeks.org/how-to-extract-the-value-names-and-counts-from-value_counts-in-pandas/\n",
    "\n",
    "df_statePin.plot(kind='bar',figsize=(15,5))\n",
    "plt.ylabel(\"Pincode_frequency\")\n",
    "plt.xlabel(\"StateName\")\n",
    "plt.title(\"Bar Graph showing Descending frequency of pincodes per state\")\n",
    "plt.show()"
   ]
  },
  {
   "cell_type": "code",
   "execution_count": 19,
   "id": "e1aa6704-6472-444a-8729-724b3a62a137",
   "metadata": {
    "tags": []
   },
   "outputs": [
    {
     "name": "stdout",
     "output_type": "stream",
     "text": [
      "                                       StateName  District_frequency\n",
      "0                                     TAMIL NADU                2036\n",
      "1                                  UTTAR PRADESH                1652\n",
      "2                                    MAHARASHTRA                1585\n",
      "3                                         KERALA                1425\n",
      "4                                      KARNATAKA                1347\n",
      "5                                 ANDHRA PRADESH                1228\n",
      "6                                    WEST BENGAL                1128\n",
      "7                                        GUJARAT                1007\n",
      "8                                      RAJASTHAN                1004\n",
      "9                                         ODISHA                 935\n",
      "10                                         BIHAR                 857\n",
      "11                                MADHYA PRADESH                 770\n",
      "12                                     TELANGANA                 674\n",
      "13                                         ASSAM                 572\n",
      "14                                        PUNJAB                 534\n",
      "15                              HIMACHAL PRADESH                 436\n",
      "16                                     JHARKHAND                 380\n",
      "17                                       HARYANA                 315\n",
      "18                                   UTTARAKHAND                 300\n",
      "19                                  CHHATTISGARH                 274\n",
      "20                             JAMMU AND KASHMIR                 196\n",
      "21                                         DELHI                  97\n",
      "22                                           GOA                  88\n",
      "23                                       TRIPURA                  80\n",
      "24                                     MEGHALAYA                  68\n",
      "25                                       MANIPUR                  52\n",
      "26                             ARUNACHAL PRADESH                  49\n",
      "27                                       MIZORAM                  47\n",
      "28                                      NAGALAND                  43\n",
      "29                                    CHANDIGARH                  25\n",
      "30                                    PUDUCHERRY                  22\n",
      "31                   ANDAMAN AND NICOBAR ISLANDS                  22\n",
      "32                                        SIKKIM                  19\n",
      "33                                        LADAKH                  16\n",
      "34                                   LAKSHADWEEP                   9\n",
      "35  THE DADRA AND NAGAR HAVELI AND DAMAN AND DIU                   8\n"
     ]
    },
    {
     "data": {
      "text/html": [
       "<div>\n",
       "<style scoped>\n",
       "    .dataframe tbody tr th:only-of-type {\n",
       "        vertical-align: middle;\n",
       "    }\n",
       "\n",
       "    .dataframe tbody tr th {\n",
       "        vertical-align: top;\n",
       "    }\n",
       "\n",
       "    .dataframe thead th {\n",
       "        text-align: right;\n",
       "    }\n",
       "</style>\n",
       "<table border=\"1\" class=\"dataframe\">\n",
       "  <thead>\n",
       "    <tr style=\"text-align: right;\">\n",
       "      <th></th>\n",
       "      <th>District_frequency</th>\n",
       "    </tr>\n",
       "    <tr>\n",
       "      <th>StateName</th>\n",
       "      <th></th>\n",
       "    </tr>\n",
       "  </thead>\n",
       "  <tbody>\n",
       "    <tr>\n",
       "      <th>TAMIL NADU</th>\n",
       "      <td>2036</td>\n",
       "    </tr>\n",
       "    <tr>\n",
       "      <th>UTTAR PRADESH</th>\n",
       "      <td>1652</td>\n",
       "    </tr>\n",
       "    <tr>\n",
       "      <th>MAHARASHTRA</th>\n",
       "      <td>1585</td>\n",
       "    </tr>\n",
       "    <tr>\n",
       "      <th>KERALA</th>\n",
       "      <td>1425</td>\n",
       "    </tr>\n",
       "    <tr>\n",
       "      <th>KARNATAKA</th>\n",
       "      <td>1347</td>\n",
       "    </tr>\n",
       "  </tbody>\n",
       "</table>\n",
       "</div>"
      ],
      "text/plain": [
       "               District_frequency\n",
       "StateName                        \n",
       "TAMIL NADU                   2036\n",
       "UTTAR PRADESH                1652\n",
       "MAHARASHTRA                  1585\n",
       "KERALA                       1425\n",
       "KARNATAKA                    1347"
      ]
     },
     "execution_count": 19,
     "metadata": {},
     "output_type": "execute_result"
    }
   ],
   "source": [
    "df_stateDist = df3.groupby(['StateName'])['District'].count().reset_index(name='District').sort_values(['District'], ascending=False)\n",
    "# https://www.geeksforgeeks.org/how-to-extract-the-value-names-and-counts-from-value_counts-in-pandas/\n",
    "\n",
    "df_stateDist = df_stateDist.reset_index(drop=True)\n",
    "df_stateDist.rename(columns = {'District':'District_frequency'}, inplace = True)\n",
    "print(df_stateDist)\n",
    "\n",
    "# changed the index to StateName\n",
    "# https://pynative.com/pandas-set-index/\n",
    "\n",
    "df_stateDist.set_index(['StateName'],inplace=True,verify_integrity=False)\n",
    "df_stateDist.head()"
   ]
  },
  {
   "cell_type": "code",
   "execution_count": 20,
   "id": "67efabdd-d82a-4c44-8ef5-c0d124521a7e",
   "metadata": {},
   "outputs": [
    {
     "data": {
      "image/png": "[encoded data removed]",
      "text/plain": [
       "<Figure size 1080x360 with 1 Axes>"
      ]
     },
     "metadata": {
      "needs_background": "light"
     },
     "output_type": "display_data"
    }
   ],
   "source": [
    "df_stateDist.plot(kind='bar',figsize=(15,5))\n",
    "plt.ylabel(\"District_frequency\")\n",
    "plt.xlabel(\"StateName\")\n",
    "plt.title(\"Bar Graph showing Descending frequency of pincodes per state\")\n",
    "plt.show()"
   ]
  },
  {
   "cell_type": "code",
   "execution_count": 21,
   "id": "6ec2f097-423f-4e4d-a3c4-031740e89b1b",
   "metadata": {},
   "outputs": [
    {
     "data": {
      "text/plain": [
       "[22,\n",
       " 1228,\n",
       " 49,\n",
       " 572,\n",
       " 857,\n",
       " 25,\n",
       " 274,\n",
       " 97,\n",
       " 88,\n",
       " 1007,\n",
       " 315,\n",
       " 436,\n",
       " 196,\n",
       " 380,\n",
       " 1347,\n",
       " 1425,\n",
       " 16,\n",
       " 9,\n",
       " 770,\n",
       " 1585,\n",
       " 52,\n",
       " 68,\n",
       " 47,\n",
       " 43,\n",
       " 935,\n",
       " 22,\n",
       " 534,\n",
       " 1004,\n",
       " 19,\n",
       " 2036,\n",
       " 674,\n",
       " 8,\n",
       " 80,\n",
       " 1652,\n",
       " 300,\n",
       " 1128]"
      ]
     },
     "execution_count": 21,
     "metadata": {},
     "output_type": "execute_result"
    }
   ],
   "source": [
    "y = list(df3.groupby(['StateName'])['Pincode'].count())\n",
    "y"
   ]
  },
  {
   "cell_type": "code",
   "execution_count": 22,
   "id": "20474b3d-e55c-4412-ae40-a3732bf9306e",
   "metadata": {},
   "outputs": [
    {
     "ename": "SyntaxError",
     "evalue": "invalid syntax (1862238462.py, line 2)",
     "output_type": "error",
     "traceback": [
      "\u001b[0;36m  Input \u001b[0;32mIn [22]\u001b[0;36m\u001b[0m\n\u001b[0;31m    x\u001b[0m\n\u001b[0m    ^\u001b[0m\n\u001b[0;31mSyntaxError\u001b[0m\u001b[0;31m:\u001b[0m invalid syntax\n"
     ]
    }
   ],
   "source": [
    "x = list(df3.groupby(['StateName'])\n",
    "x"
   ]
  },
  {
   "cell_type": "code",
   "execution_count": null,
   "id": "1427218f-10b7-4aac-942e-15f8c5d93d62",
   "metadata": {},
   "outputs": [],
   "source": [
    "# Visualising the number of unique pincodes in a state - Histogram\n",
    "\n",
    "hist = df_statePin.hist(bins=10)\n"
   ]
  },
  {
   "cell_type": "code",
   "execution_count": null,
   "id": "80810c2b-ca23-4059-94d9-140c2c2d9066",
   "metadata": {},
   "outputs": [],
   "source": [
    "bihar_df"
   ]
  },
  {
   "cell_type": "markdown",
   "id": "2148f7c0-8b43-4500-aaa5-3b4a4eb6eee2",
   "metadata": {},
   "source": []
  },
  {
   "cell_type": "code",
   "execution_count": null,
   "id": "9baf73df-8f60-4119-8442-0847db52213e",
   "metadata": {},
   "outputs": [],
   "source": []
  }
 ],
 "metadata": {
  "kernelspec": {
   "display_name": "Python 3 (ipykernel)",
   "language": "python",
   "name": "python3"
  },
  "language_info": {
   "codemirror_mode": {
    "name": "ipython",
    "version": 3
   },
   "file_extension": ".py",
   "mimetype": "text/x-python",
   "name": "python",
   "nbconvert_exporter": "python",
   "pygments_lexer": "ipython3",
   "version": "3.9.12"
  }
 },
 "nbformat": 4,
 "nbformat_minor": 5
}
